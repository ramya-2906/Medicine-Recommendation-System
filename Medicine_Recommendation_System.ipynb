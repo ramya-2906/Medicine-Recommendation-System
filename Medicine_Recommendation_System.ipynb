{
  "nbformat": 4,
  "nbformat_minor": 0,
  "metadata": {
    "colab": {
      "provenance": [],
      "authorship_tag": "ABX9TyPVBYUJEg3qEejscgzgnf4l",
      "include_colab_link": true
    },
    "kernelspec": {
      "name": "python3",
      "display_name": "Python 3"
    },
    "language_info": {
      "name": "python"
    }
  },
  "cells": [
    {
      "cell_type": "markdown",
      "metadata": {
        "id": "view-in-github",
        "colab_type": "text"
      },
      "source": [
        "<a href=\"https://colab.research.google.com/github/ramya-2906/Medicine-Recommendation-System/blob/main/Medicine_Recommendation_System.ipynb\" target=\"_parent\"><img src=\"https://colab.research.google.com/assets/colab-badge.svg\" alt=\"Open In Colab\"/></a>"
      ]
    },
    {
      "cell_type": "code",
      "execution_count": 15,
      "metadata": {
        "colab": {
          "base_uri": "https://localhost:8080/"
        },
        "id": "AO8ejMPC21lL",
        "outputId": "ed3682c3-a595-409b-f9ae-5a142d429b1a"
      },
      "outputs": [
        {
          "output_type": "stream",
          "name": "stdout",
          "text": [
            "Requirement already satisfied: pandas in /usr/local/lib/python3.12/dist-packages (2.2.2)\n",
            "Requirement already satisfied: scikit-learn in /usr/local/lib/python3.12/dist-packages (1.6.1)\n",
            "Requirement already satisfied: numpy>=1.26.0 in /usr/local/lib/python3.12/dist-packages (from pandas) (2.0.2)\n",
            "Requirement already satisfied: python-dateutil>=2.8.2 in /usr/local/lib/python3.12/dist-packages (from pandas) (2.9.0.post0)\n",
            "Requirement already satisfied: pytz>=2020.1 in /usr/local/lib/python3.12/dist-packages (from pandas) (2025.2)\n",
            "Requirement already satisfied: tzdata>=2022.7 in /usr/local/lib/python3.12/dist-packages (from pandas) (2025.2)\n",
            "Requirement already satisfied: scipy>=1.6.0 in /usr/local/lib/python3.12/dist-packages (from scikit-learn) (1.16.1)\n",
            "Requirement already satisfied: joblib>=1.2.0 in /usr/local/lib/python3.12/dist-packages (from scikit-learn) (1.5.2)\n",
            "Requirement already satisfied: threadpoolctl>=3.1.0 in /usr/local/lib/python3.12/dist-packages (from scikit-learn) (3.6.0)\n",
            "Requirement already satisfied: six>=1.5 in /usr/local/lib/python3.12/dist-packages (from python-dateutil>=2.8.2->pandas) (1.17.0)\n"
          ]
        }
      ],
      "source": [
        "# -------------------------------\n",
        "# Step 1: Install Required Libraries\n",
        "# -------------------------------\n",
        "!pip install pandas scikit-learn"
      ]
    },
    {
      "cell_type": "code",
      "source": [
        "# -------------------------------\n",
        "# Step 2: Import Libraries\n",
        "# -------------------------------\n",
        "import pandas as pd\n",
        "from sklearn.feature_extraction.text import TfidfVectorizer\n",
        "from sklearn.metrics.pairwise import cosine_similarity"
      ],
      "metadata": {
        "id": "SyxTCD7o87hK"
      },
      "execution_count": 16,
      "outputs": []
    },
    {
      "cell_type": "code",
      "source": [
        "# -------------------------------\n",
        "# Step 3: Load Dataset\n",
        "# -------------------------------\n",
        "df = pd.read_csv('medicine.csv')  # replace with your CSV path\n",
        "\n",
        "# Inspect dataset\n",
        "print(\"Columns in dataset:\", df.columns)\n",
        "print(\"Dataset preview:\")\n",
        "print(df.head())"
      ],
      "metadata": {
        "colab": {
          "base_uri": "https://localhost:8080/"
        },
        "id": "LceZ8wiD8-Yb",
        "outputId": "6996022c-e1a9-4f35-ca6a-6ae64da058b4"
      },
      "execution_count": 17,
      "outputs": [
        {
          "output_type": "stream",
          "name": "stdout",
          "text": [
            "Columns in dataset: Index(['index', 'Drug_Name', 'Reason', 'Description'], dtype='object')\n",
            "Dataset preview:\n",
            "   index                                          Drug_Name Reason  \\\n",
            "0      1               A CN Gel(Topical) 20gmA CN Soap 75gm   Acne   \n",
            "1      2  A Ret 0.05% Gel 20gmA Ret 0.1% Gel 20gmA Ret 0...   Acne   \n",
            "2      3                             ACGEL CL NANO Gel 15gm   Acne   \n",
            "3      4                                ACGEL NANO Gel 15gm   Acne   \n",
            "4      5                              Acleen 1% Lotion 25ml   Acne   \n",
            "\n",
            "                                         Description  \n",
            "0                      Mild to moderate acne (spots)  \n",
            "1  A RET 0.025% is a prescription medicine that i...  \n",
            "2  It is used to treat acne vulgaris in people 12...  \n",
            "3  It is used to treat acne vulgaris in people 12...  \n",
            "4  treat the most severe form of acne (nodular ac...  \n"
          ]
        }
      ]
    },
    {
      "cell_type": "code",
      "source": [
        "# -------------------------------\n",
        "# Step 4: Preprocess Data\n",
        "# -------------------------------\n",
        "# Drop rows with missing values in essential columns\n",
        "df = df.dropna(subset=['Drug_Name', 'Reason', 'Description'])\n",
        "\n",
        "# Create a lowercase version of the Reason column for case-insensitive matching\n",
        "df['Reason_lower'] = df['Reason'].str.lower()\n"
      ],
      "metadata": {
        "id": "EoMZeoRs9ChI"
      },
      "execution_count": 18,
      "outputs": []
    },
    {
      "cell_type": "code",
      "source": [
        "# -------------------------------\n",
        "# Step 5: Build TF-IDF Matrix\n",
        "# -------------------------------\n",
        "# We'll use the 'Description' column to find similarity between diseases/reasons\n",
        "tfidf = TfidfVectorizer(stop_words='english')\n",
        "tfidf_matrix = tfidf.fit_transform(df['Description'])\n",
        "\n",
        "# Compute cosine similarity matrix\n",
        "cosine_sim = cosine_similarity(tfidf_matrix, tfidf_matrix)\n"
      ],
      "metadata": {
        "id": "bEupVfjx9FJx"
      },
      "execution_count": 19,
      "outputs": []
    },
    {
      "cell_type": "code",
      "source": [
        "# -------------------------------\n",
        "# Step 6: Recommendation Function\n",
        "# -------------------------------\n",
        "def recommend_medicine(reason_name):\n",
        "    reason_lower = reason_name.lower()\n",
        "\n",
        "    if reason_lower not in df['Reason_lower'].values:\n",
        "        return \"Reason/Disease not found in dataset.\"\n",
        "\n",
        "    # Get index of the reason\n",
        "    idx = df[df['Reason_lower'] == reason_lower].index[0]\n",
        "\n",
        "    # Get similarity scores\n",
        "    sim_scores = list(enumerate(cosine_sim[idx]))\n",
        "\n",
        "    # Sort by similarity\n",
        "    sim_scores = sorted(sim_scores, key=lambda x: x[1], reverse=True)\n",
        "\n",
        "    # Take top 5 similar reasons (excluding itself)\n",
        "    sim_scores = sim_scores[1:6]\n",
        "\n",
        "    # Get indices\n",
        "    indices = [i[0] for i in sim_scores]\n",
        "\n",
        "    # Return recommended Drug_Names\n",
        "    return df['Drug_Name'].iloc[indices].values\n"
      ],
      "metadata": {
        "id": "nCDe7jxi9HMM"
      },
      "execution_count": 20,
      "outputs": []
    },
    {
      "cell_type": "code",
      "source": [
        "# -------------------------------\n",
        "# Step 7: Interactive Testing\n",
        "# -------------------------------\n",
        "while True:\n",
        "    user_input = input(\"Enter a reason/disease (or type 'exit' to quit): \")\n",
        "    if user_input.lower() == 'exit':\n",
        "        print(\"Goodbye 👋\")\n",
        "        break\n",
        "    recommendations = recommend_medicine(user_input)\n",
        "    print(f\"\\nRecommended drugs for '{user_input}':\\n{recommendations}\\n\")"
      ],
      "metadata": {
        "colab": {
          "base_uri": "https://localhost:8080/"
        },
        "id": "GYsls-r69KRs",
        "outputId": "a5302a14-a30c-4c81-a989-a0abcc6aae0e"
      },
      "execution_count": null,
      "outputs": [
        {
          "output_type": "stream",
          "name": "stdout",
          "text": [
            "Enter a reason/disease (or type 'exit' to quit): acne\n",
            "\n",
            "Recommended drugs for 'acne':\n",
            "['Acnedap Gel 15gm' \"Acnetoin 20mg Capsule 10'SAcnetoin Gel 15gm\"\n",
            " 'Acnin Pimple Care Face Pack 50gm' 'Adapnil Gel 15gm' 'Alene Gel 15gm']\n",
            "\n",
            "Enter a reason/disease (or type 'exit' to quit): cold\n",
            "\n",
            "Recommended drugs for 'cold':\n",
            "Reason/Disease not found in dataset.\n",
            "\n",
            "Enter a reason/disease (or type 'exit' to quit): fever\n",
            "\n",
            "Recommended drugs for 'fever':\n",
            "['Aalcetamol 1000mg Infusion 100ml' 'ACETO 250mg Syrup 60ml'\n",
            " 'Agpar 125mg Suspension 450ml' \"ALGINA 500MG TABLET 10'S\"\n",
            " \"AMIDOL Tablet 10's\"]\n",
            "\n",
            "Enter a reason/disease (or type 'exit' to quit): dandruff\n",
            "\n",
            "Recommended drugs for 'dandruff':\n",
            "['Dankare Plus Scalp Solution 100ml' 'Fongitar Liquid 100ml'\n",
            " 'Keraglo AD Lotion 50mlKeraglo AD Shampoo 75ml' 'Ketafung CT Lotion 90ml'\n",
            " 'Ketomac Shampoo 110ml']\n",
            "\n"
          ]
        }
      ]
    },
    {
      "cell_type": "code",
      "source": [],
      "metadata": {
        "id": "gGXxDOWe9MqP"
      },
      "execution_count": null,
      "outputs": []
    }
  ]
}